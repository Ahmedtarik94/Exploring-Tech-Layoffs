{
 "cells": [
  {
   "cell_type": "markdown",
   "id": "3dc6fe6a",
   "metadata": {},
   "source": [
    "# Layoffs Analysis\n",
    "\n",
    "In the past few months, the world have seen a strong wave hitting the world especially in the Tech industry. With companies like Twitter, Amazon, and Meta laying off more than 10,000 Employee each causing panic in the world's economy along with impacting more than 30,000 families across the globe.\n",
    "\n",
    "I thought of understanding the layoffs happening all around the world including the following metrics:\n",
    "- Which industries were impacted by the layoffs wave?\n",
    "- Which countries layed off the most employees?\n",
    "- Which companies layed off the most employees?\n",
    "- The correlation between funding stage and layoffs?\n",
    "- The correlation between the amount of fund raised to the company and the layoffs?\n",
    "- The impact of dollar inflation on the layoffs happening throughout the past 3 years?\n",
    "\n",
    "This report includes the full explanatory analysis against multiple datasets, we have 1 main dataset and 1 supplementary datasets to support the analysis. These datasets are:\n",
    "- Layoffs data from 2019 up to 2022 (Main Dataset)\n",
    "- Dollar inflation 1800-2022 (Supplementary Dataset)\n",
    "\n",
    "In this report, we will be loading, exploring and cleaning the datasets we have then we will export the data to CSV files so we can import it on Tableau for data visualization purposes and extracting insights."
   ]
  },
  {
   "cell_type": "markdown",
   "id": "900bd178",
   "metadata": {},
   "source": [
    "### Data Exploration and cleaning.\n",
    "\n",
    "In this section, we will load our data to pandas dataframes and start exploring our options so we can properly clean the data."
   ]
  },
  {
   "cell_type": "code",
   "execution_count": 62,
   "id": "9fe88a4b",
   "metadata": {},
   "outputs": [
    {
     "data": {
      "text/html": [
       "<div>\n",
       "<style scoped>\n",
       "    .dataframe tbody tr th:only-of-type {\n",
       "        vertical-align: middle;\n",
       "    }\n",
       "\n",
       "    .dataframe tbody tr th {\n",
       "        vertical-align: top;\n",
       "    }\n",
       "\n",
       "    .dataframe thead th {\n",
       "        text-align: right;\n",
       "    }\n",
       "</style>\n",
       "<table border=\"1\" class=\"dataframe\">\n",
       "  <thead>\n",
       "    <tr style=\"text-align: right;\">\n",
       "      <th></th>\n",
       "      <th>company</th>\n",
       "      <th>location</th>\n",
       "      <th>industry</th>\n",
       "      <th>total_laid_off</th>\n",
       "      <th>percentage_laid_off</th>\n",
       "      <th>date</th>\n",
       "      <th>stage</th>\n",
       "      <th>country</th>\n",
       "      <th>funds_raised</th>\n",
       "    </tr>\n",
       "  </thead>\n",
       "  <tbody>\n",
       "    <tr>\n",
       "      <th>0</th>\n",
       "      <td>Roku</td>\n",
       "      <td>SF Bay Area</td>\n",
       "      <td>Media</td>\n",
       "      <td>200.0</td>\n",
       "      <td>0.07</td>\n",
       "      <td>2022-11-17</td>\n",
       "      <td>IPO</td>\n",
       "      <td>United States</td>\n",
       "      <td>208.0</td>\n",
       "    </tr>\n",
       "    <tr>\n",
       "      <th>1</th>\n",
       "      <td>Orchard</td>\n",
       "      <td>New York City</td>\n",
       "      <td>Real Estate</td>\n",
       "      <td>180.0</td>\n",
       "      <td>NaN</td>\n",
       "      <td>2022-11-17</td>\n",
       "      <td>Series D</td>\n",
       "      <td>United States</td>\n",
       "      <td>472.0</td>\n",
       "    </tr>\n",
       "    <tr>\n",
       "      <th>2</th>\n",
       "      <td>Chili Piper</td>\n",
       "      <td>New York City</td>\n",
       "      <td>Sales</td>\n",
       "      <td>58.0</td>\n",
       "      <td>NaN</td>\n",
       "      <td>2022-11-17</td>\n",
       "      <td>Series B</td>\n",
       "      <td>United States</td>\n",
       "      <td>54.0</td>\n",
       "    </tr>\n",
       "    <tr>\n",
       "      <th>3</th>\n",
       "      <td>Capitolis</td>\n",
       "      <td>New York City</td>\n",
       "      <td>Finance</td>\n",
       "      <td>37.0</td>\n",
       "      <td>0.25</td>\n",
       "      <td>2022-11-17</td>\n",
       "      <td>Series D</td>\n",
       "      <td>United States</td>\n",
       "      <td>281.0</td>\n",
       "    </tr>\n",
       "    <tr>\n",
       "      <th>4</th>\n",
       "      <td>TealBook</td>\n",
       "      <td>Toronto</td>\n",
       "      <td>Other</td>\n",
       "      <td>34.0</td>\n",
       "      <td>0.19</td>\n",
       "      <td>2022-11-17</td>\n",
       "      <td>Series B</td>\n",
       "      <td>Canada</td>\n",
       "      <td>73.0</td>\n",
       "    </tr>\n",
       "  </tbody>\n",
       "</table>\n",
       "</div>"
      ],
      "text/plain": [
       "       company       location     industry  total_laid_off  \\\n",
       "0         Roku    SF Bay Area        Media           200.0   \n",
       "1      Orchard  New York City  Real Estate           180.0   \n",
       "2  Chili Piper  New York City        Sales            58.0   \n",
       "3    Capitolis  New York City      Finance            37.0   \n",
       "4     TealBook        Toronto        Other            34.0   \n",
       "\n",
       "   percentage_laid_off        date     stage        country  funds_raised  \n",
       "0                 0.07  2022-11-17       IPO  United States         208.0  \n",
       "1                  NaN  2022-11-17  Series D  United States         472.0  \n",
       "2                  NaN  2022-11-17  Series B  United States          54.0  \n",
       "3                 0.25  2022-11-17  Series D  United States         281.0  \n",
       "4                 0.19  2022-11-17  Series B         Canada          73.0  "
      ]
     },
     "execution_count": 62,
     "metadata": {},
     "output_type": "execute_result"
    }
   ],
   "source": [
    "#Loading necessary libraries\n",
    "import numpy as np\n",
    "import pandas as pd\n",
    "import matplotlib.pyplot as plt\n",
    "import seaborn as sns\n",
    "%matplotlib inline\n",
    "\n",
    "#loading the layoffs data\n",
    "df_layoffs = pd.read_csv('layoffs.csv')\n",
    "df_layoffs.head()"
   ]
  },
  {
   "cell_type": "markdown",
   "id": "a56e3f5c",
   "metadata": {},
   "source": [
    "For the layoffs data we have the company name, location,Country, funding stage, funds raised in million dollarsand industry along with the total number of laid off employees, percentage laid off per date.\n",
    "\n",
    "Let us explore the data types and the Null values."
   ]
  },
  {
   "cell_type": "code",
   "execution_count": 63,
   "id": "81d729f0",
   "metadata": {},
   "outputs": [
    {
     "data": {
      "text/plain": [
       "company                 object\n",
       "location                object\n",
       "industry                object\n",
       "total_laid_off         float64\n",
       "percentage_laid_off    float64\n",
       "date                    object\n",
       "stage                   object\n",
       "country                 object\n",
       "funds_raised           float64\n",
       "dtype: object"
      ]
     },
     "execution_count": 63,
     "metadata": {},
     "output_type": "execute_result"
    }
   ],
   "source": [
    "df_layoffs.dtypes"
   ]
  },
  {
   "cell_type": "code",
   "execution_count": 64,
   "id": "6b75d8c3",
   "metadata": {},
   "outputs": [
    {
     "data": {
      "text/plain": [
       "company                  0\n",
       "location                 0\n",
       "industry                 3\n",
       "total_laid_off         467\n",
       "percentage_laid_off    541\n",
       "date                     0\n",
       "stage                    4\n",
       "country                  0\n",
       "funds_raised           112\n",
       "dtype: int64"
      ]
     },
     "execution_count": 64,
     "metadata": {},
     "output_type": "execute_result"
    }
   ],
   "source": [
    "df_layoffs.isnull().sum()"
   ]
  },
  {
   "cell_type": "markdown",
   "id": "09c3c932",
   "metadata": {},
   "source": [
    "We have around 467 null values for the total_laid_off employees, 541 null values for the percentage_laid_off, 112 null values for the funds_raised, 4 in the funding stage and finally 3 null values for the industry.\n",
    "\n",
    "I will drop the null values for the total_laid_off as an initial cleaning step."
   ]
  },
  {
   "cell_type": "code",
   "execution_count": 65,
   "id": "a27626d2",
   "metadata": {},
   "outputs": [
    {
     "data": {
      "text/plain": [
       "company                  0\n",
       "location                 0\n",
       "industry                 3\n",
       "total_laid_off           0\n",
       "percentage_laid_off    300\n",
       "date                     0\n",
       "stage                    1\n",
       "country                  0\n",
       "funds_raised            69\n",
       "dtype: int64"
      ]
     },
     "execution_count": 65,
     "metadata": {},
     "output_type": "execute_result"
    }
   ],
   "source": [
    "df_layoffs = df_layoffs.dropna(axis=0, subset=['total_laid_off'])\n",
    "df_layoffs.isnull().sum()"
   ]
  },
  {
   "cell_type": "markdown",
   "id": "7dce1146",
   "metadata": {},
   "source": [
    "Regarding the industry and the stage columns, I will replace the null values with Unknown."
   ]
  },
  {
   "cell_type": "code",
   "execution_count": 66,
   "id": "ee911156",
   "metadata": {},
   "outputs": [
    {
     "data": {
      "text/plain": [
       "company                  0\n",
       "location                 0\n",
       "industry                 0\n",
       "total_laid_off           0\n",
       "percentage_laid_off    300\n",
       "date                     0\n",
       "stage                    0\n",
       "country                  0\n",
       "funds_raised            69\n",
       "dtype: int64"
      ]
     },
     "execution_count": 66,
     "metadata": {},
     "output_type": "execute_result"
    }
   ],
   "source": [
    "df_layoffs[['stage','industry']] = df_layoffs[['stage','industry']].fillna('Unknown')\n",
    "df_layoffs.isnull().sum()"
   ]
  },
  {
   "cell_type": "markdown",
   "id": "80307a72",
   "metadata": {},
   "source": [
    "For the percentage laid off and the fund raised columns, I will replace the null values with the average of the column itself."
   ]
  },
  {
   "cell_type": "code",
   "execution_count": 67,
   "id": "90c7e98f",
   "metadata": {},
   "outputs": [
    {
     "data": {
      "text/plain": [
       "company                0\n",
       "location               0\n",
       "industry               0\n",
       "total_laid_off         0\n",
       "percentage_laid_off    0\n",
       "date                   0\n",
       "stage                  0\n",
       "country                0\n",
       "funds_raised           0\n",
       "dtype: int64"
      ]
     },
     "execution_count": 67,
     "metadata": {},
     "output_type": "execute_result"
    }
   ],
   "source": [
    "df_layoffs['percentage_laid_off'].fillna(value=df_layoffs['percentage_laid_off'].mean(),inplace=True)\n",
    "df_layoffs['funds_raised'].fillna(value=df_layoffs['funds_raised'].mean(),inplace=True)\n",
    "df_layoffs.isnull().sum()"
   ]
  },
  {
   "cell_type": "markdown",
   "id": "58488884",
   "metadata": {},
   "source": [
    "Now that we have cleaned the data from layoffs dataset, let us export the data to CSV then move to the next dataset."
   ]
  },
  {
   "cell_type": "code",
   "execution_count": 68,
   "id": "9105564d",
   "metadata": {},
   "outputs": [],
   "source": [
    "df_layoffs.to_csv('Layoffs_cleaned.csv')"
   ]
  },
  {
   "cell_type": "markdown",
   "id": "172c6081",
   "metadata": {},
   "source": [
    "#### Exploring and Cleaning the Dollar Inflation Dataset."
   ]
  },
  {
   "cell_type": "code",
   "execution_count": 30,
   "id": "e796f94d",
   "metadata": {},
   "outputs": [
    {
     "data": {
      "text/html": [
       "<div>\n",
       "<style scoped>\n",
       "    .dataframe tbody tr th:only-of-type {\n",
       "        vertical-align: middle;\n",
       "    }\n",
       "\n",
       "    .dataframe tbody tr th {\n",
       "        vertical-align: top;\n",
       "    }\n",
       "\n",
       "    .dataframe thead th {\n",
       "        text-align: right;\n",
       "    }\n",
       "</style>\n",
       "<table border=\"1\" class=\"dataframe\">\n",
       "  <thead>\n",
       "    <tr style=\"text-align: right;\">\n",
       "      <th></th>\n",
       "      <th>Year</th>\n",
       "      <th>Dollar Value</th>\n",
       "      <th>Buying Power</th>\n",
       "      <th>Inflation Rate</th>\n",
       "    </tr>\n",
       "  </thead>\n",
       "  <tbody>\n",
       "    <tr>\n",
       "      <th>0</th>\n",
       "      <td>1800</td>\n",
       "      <td>1.00</td>\n",
       "      <td>1.00</td>\n",
       "      <td>2.44</td>\n",
       "    </tr>\n",
       "    <tr>\n",
       "      <th>1</th>\n",
       "      <td>1801</td>\n",
       "      <td>1.01</td>\n",
       "      <td>0.99</td>\n",
       "      <td>0.79</td>\n",
       "    </tr>\n",
       "    <tr>\n",
       "      <th>2</th>\n",
       "      <td>1802</td>\n",
       "      <td>0.85</td>\n",
       "      <td>1.18</td>\n",
       "      <td>-15.75</td>\n",
       "    </tr>\n",
       "    <tr>\n",
       "      <th>3</th>\n",
       "      <td>1803</td>\n",
       "      <td>0.90</td>\n",
       "      <td>1.11</td>\n",
       "      <td>5.61</td>\n",
       "    </tr>\n",
       "    <tr>\n",
       "      <th>4</th>\n",
       "      <td>1804</td>\n",
       "      <td>0.94</td>\n",
       "      <td>1.06</td>\n",
       "      <td>4.42</td>\n",
       "    </tr>\n",
       "  </tbody>\n",
       "</table>\n",
       "</div>"
      ],
      "text/plain": [
       "   Year  Dollar Value  Buying Power Inflation Rate\n",
       "0  1800          1.00          1.00           2.44\n",
       "1  1801          1.01          0.99           0.79\n",
       "2  1802          0.85          1.18         -15.75\n",
       "3  1803          0.90          1.11           5.61\n",
       "4  1804          0.94          1.06           4.42"
      ]
     },
     "execution_count": 30,
     "metadata": {},
     "output_type": "execute_result"
    }
   ],
   "source": [
    "#Loading the Dollar Inflation DataSet\n",
    "df_inf = pd.read_csv('dollar_inflation.csv')\n",
    "df_inf.head()"
   ]
  },
  {
   "cell_type": "markdown",
   "id": "5edead32",
   "metadata": {},
   "source": [
    "For this dataset, we have the Dollar value, Buying power and Inflation Rate  percentage per year.\n",
    "\n",
    "Before actually doing anything, I will drop all values for all years except for 2020 up to 2022 for proper analysis. "
   ]
  },
  {
   "cell_type": "code",
   "execution_count": 31,
   "id": "02cab294",
   "metadata": {},
   "outputs": [
    {
     "data": {
      "text/plain": [
       "(223, 4)"
      ]
     },
     "execution_count": 31,
     "metadata": {},
     "output_type": "execute_result"
    }
   ],
   "source": [
    "df_inf.shape"
   ]
  },
  {
   "cell_type": "code",
   "execution_count": 35,
   "id": "1d4250b8",
   "metadata": {},
   "outputs": [
    {
     "data": {
      "text/html": [
       "<div>\n",
       "<style scoped>\n",
       "    .dataframe tbody tr th:only-of-type {\n",
       "        vertical-align: middle;\n",
       "    }\n",
       "\n",
       "    .dataframe tbody tr th {\n",
       "        vertical-align: top;\n",
       "    }\n",
       "\n",
       "    .dataframe thead th {\n",
       "        text-align: right;\n",
       "    }\n",
       "</style>\n",
       "<table border=\"1\" class=\"dataframe\">\n",
       "  <thead>\n",
       "    <tr style=\"text-align: right;\">\n",
       "      <th></th>\n",
       "      <th>Year</th>\n",
       "      <th>Dollar Value</th>\n",
       "      <th>Buying Power</th>\n",
       "      <th>Inflation Rate</th>\n",
       "    </tr>\n",
       "  </thead>\n",
       "  <tbody>\n",
       "    <tr>\n",
       "      <th>218</th>\n",
       "      <td>2018</td>\n",
       "      <td>19.94</td>\n",
       "      <td>0.05</td>\n",
       "      <td>2.49</td>\n",
       "    </tr>\n",
       "    <tr>\n",
       "      <th>219</th>\n",
       "      <td>2019</td>\n",
       "      <td>20.29</td>\n",
       "      <td>0.05</td>\n",
       "      <td>1.76</td>\n",
       "    </tr>\n",
       "    <tr>\n",
       "      <th>220</th>\n",
       "      <td>2020</td>\n",
       "      <td>20.54</td>\n",
       "      <td>0.05</td>\n",
       "      <td>1.23</td>\n",
       "    </tr>\n",
       "    <tr>\n",
       "      <th>221</th>\n",
       "      <td>2021</td>\n",
       "      <td>21.51</td>\n",
       "      <td>0.05</td>\n",
       "      <td>4.70</td>\n",
       "    </tr>\n",
       "    <tr>\n",
       "      <th>222</th>\n",
       "      <td>2022</td>\n",
       "      <td>23.56</td>\n",
       "      <td>0.04</td>\n",
       "      <td>#VALUE!</td>\n",
       "    </tr>\n",
       "  </tbody>\n",
       "</table>\n",
       "</div>"
      ],
      "text/plain": [
       "     Year  Dollar Value  Buying Power Inflation Rate\n",
       "218  2018         19.94          0.05           2.49\n",
       "219  2019         20.29          0.05           1.76\n",
       "220  2020         20.54          0.05           1.23\n",
       "221  2021         21.51          0.05           4.70\n",
       "222  2022         23.56          0.04        #VALUE!"
      ]
     },
     "execution_count": 35,
     "metadata": {},
     "output_type": "execute_result"
    }
   ],
   "source": [
    "df_inf.tail()"
   ]
  },
  {
   "cell_type": "code",
   "execution_count": null,
   "id": "8709fa9e",
   "metadata": {},
   "outputs": [],
   "source": [
    "df_inf = df_inf[220: ]"
   ]
  },
  {
   "cell_type": "code",
   "execution_count": 42,
   "id": "d1e97207",
   "metadata": {},
   "outputs": [
    {
     "data": {
      "text/html": [
       "<div>\n",
       "<style scoped>\n",
       "    .dataframe tbody tr th:only-of-type {\n",
       "        vertical-align: middle;\n",
       "    }\n",
       "\n",
       "    .dataframe tbody tr th {\n",
       "        vertical-align: top;\n",
       "    }\n",
       "\n",
       "    .dataframe thead th {\n",
       "        text-align: right;\n",
       "    }\n",
       "</style>\n",
       "<table border=\"1\" class=\"dataframe\">\n",
       "  <thead>\n",
       "    <tr style=\"text-align: right;\">\n",
       "      <th></th>\n",
       "      <th>Year</th>\n",
       "      <th>Dollar Value</th>\n",
       "      <th>Buying Power</th>\n",
       "      <th>Inflation Rate</th>\n",
       "    </tr>\n",
       "  </thead>\n",
       "  <tbody>\n",
       "    <tr>\n",
       "      <th>220</th>\n",
       "      <td>2020</td>\n",
       "      <td>20.54</td>\n",
       "      <td>0.05</td>\n",
       "      <td>1.23</td>\n",
       "    </tr>\n",
       "    <tr>\n",
       "      <th>221</th>\n",
       "      <td>2021</td>\n",
       "      <td>21.51</td>\n",
       "      <td>0.05</td>\n",
       "      <td>4.70</td>\n",
       "    </tr>\n",
       "    <tr>\n",
       "      <th>222</th>\n",
       "      <td>2022</td>\n",
       "      <td>23.56</td>\n",
       "      <td>0.04</td>\n",
       "      <td>#VALUE!</td>\n",
       "    </tr>\n",
       "  </tbody>\n",
       "</table>\n",
       "</div>"
      ],
      "text/plain": [
       "     Year  Dollar Value  Buying Power Inflation Rate\n",
       "220  2020         20.54          0.05           1.23\n",
       "221  2021         21.51          0.05           4.70\n",
       "222  2022         23.56          0.04        #VALUE!"
      ]
     },
     "execution_count": 42,
     "metadata": {},
     "output_type": "execute_result"
    }
   ],
   "source": [
    "df_inf"
   ]
  },
  {
   "cell_type": "markdown",
   "id": "aef61c5d",
   "metadata": {},
   "source": [
    "We have a missing value for the Inflation rate in 2022. This data is collected up to November 2022.\n",
    "According to the International Monetary Fund the Dollar Inflation rate as per Ocotber 2022 is 7.75%. Therefore, I will replace the missing value with the number announced by IMF."
   ]
  },
  {
   "cell_type": "code",
   "execution_count": 43,
   "id": "8ec09153",
   "metadata": {},
   "outputs": [
    {
     "name": "stderr",
     "output_type": "stream",
     "text": [
      "C:\\Users\\ahmed\\AppData\\Local\\Temp\\ipykernel_7396\\388052671.py:1: SettingWithCopyWarning: \n",
      "A value is trying to be set on a copy of a slice from a DataFrame\n",
      "\n",
      "See the caveats in the documentation: https://pandas.pydata.org/pandas-docs/stable/user_guide/indexing.html#returning-a-view-versus-a-copy\n",
      "  df_inf['Inflation Rate'].fillna(value=7.75,inplace=True)\n"
     ]
    },
    {
     "data": {
      "text/html": [
       "<div>\n",
       "<style scoped>\n",
       "    .dataframe tbody tr th:only-of-type {\n",
       "        vertical-align: middle;\n",
       "    }\n",
       "\n",
       "    .dataframe tbody tr th {\n",
       "        vertical-align: top;\n",
       "    }\n",
       "\n",
       "    .dataframe thead th {\n",
       "        text-align: right;\n",
       "    }\n",
       "</style>\n",
       "<table border=\"1\" class=\"dataframe\">\n",
       "  <thead>\n",
       "    <tr style=\"text-align: right;\">\n",
       "      <th></th>\n",
       "      <th>Year</th>\n",
       "      <th>Dollar Value</th>\n",
       "      <th>Buying Power</th>\n",
       "      <th>Inflation Rate</th>\n",
       "    </tr>\n",
       "  </thead>\n",
       "  <tbody>\n",
       "    <tr>\n",
       "      <th>220</th>\n",
       "      <td>2020</td>\n",
       "      <td>20.54</td>\n",
       "      <td>0.05</td>\n",
       "      <td>1.23</td>\n",
       "    </tr>\n",
       "    <tr>\n",
       "      <th>221</th>\n",
       "      <td>2021</td>\n",
       "      <td>21.51</td>\n",
       "      <td>0.05</td>\n",
       "      <td>4.70</td>\n",
       "    </tr>\n",
       "    <tr>\n",
       "      <th>222</th>\n",
       "      <td>2022</td>\n",
       "      <td>23.56</td>\n",
       "      <td>0.04</td>\n",
       "      <td>#VALUE!</td>\n",
       "    </tr>\n",
       "  </tbody>\n",
       "</table>\n",
       "</div>"
      ],
      "text/plain": [
       "     Year  Dollar Value  Buying Power Inflation Rate\n",
       "220  2020         20.54          0.05           1.23\n",
       "221  2021         21.51          0.05           4.70\n",
       "222  2022         23.56          0.04        #VALUE!"
      ]
     },
     "execution_count": 43,
     "metadata": {},
     "output_type": "execute_result"
    }
   ],
   "source": [
    "df_inf['Inflation Rate'].fillna(value=7.75,inplace=True)\n",
    "df_inf"
   ]
  },
  {
   "cell_type": "code",
   "execution_count": 44,
   "id": "2700b2ae",
   "metadata": {},
   "outputs": [
    {
     "data": {
      "text/plain": [
       "Year                int64\n",
       "Dollar Value      float64\n",
       "Buying Power      float64\n",
       "Inflation Rate     object\n",
       "dtype: object"
      ]
     },
     "execution_count": 44,
     "metadata": {},
     "output_type": "execute_result"
    }
   ],
   "source": [
    "df_inf.dtypes"
   ]
  },
  {
   "cell_type": "code",
   "execution_count": 55,
   "id": "671f3a85",
   "metadata": {},
   "outputs": [
    {
     "name": "stderr",
     "output_type": "stream",
     "text": [
      "C:\\Users\\ahmed\\AppData\\Local\\Temp\\ipykernel_7396\\4067878897.py:1: SettingWithCopyWarning: \n",
      "A value is trying to be set on a copy of a slice from a DataFrame.\n",
      "Try using .loc[row_indexer,col_indexer] = value instead\n",
      "\n",
      "See the caveats in the documentation: https://pandas.pydata.org/pandas-docs/stable/user_guide/indexing.html#returning-a-view-versus-a-copy\n",
      "  df_inf['Inflation Rate'] = df_inf['Inflation Rate'].replace('#VALUE!',7.75)\n"
     ]
    }
   ],
   "source": [
    "df_inf['Inflation Rate'] = df_inf['Inflation Rate'].replace('#VALUE!',7.75)\n",
    "df_inf.to_csv('Inflation Rate Updated.csv')"
   ]
  },
  {
   "cell_type": "code",
   "execution_count": 77,
   "id": "22e79c9b",
   "metadata": {},
   "outputs": [],
   "source": [
    "df_layoffs.to_csv('Layoffs_cleaned.csv')"
   ]
  },
  {
   "cell_type": "markdown",
   "id": "b20ed829",
   "metadata": {},
   "source": [
    "### Data Wrangling and Visualization"
   ]
  },
  {
   "cell_type": "markdown",
   "id": "dcb49812",
   "metadata": {},
   "source": [
    "I have exported the cleaned data to csv files so I can visualize it using Tableau and re-embed the Visuals Here.\n",
    "\n",
    "As per the analysis, it looks like **United States and India** recorded the highest number of layoffs in the last 3 years (2020 to 2021) as follows:"
   ]
  },
  {
   "cell_type": "code",
   "execution_count": 108,
   "id": "293486d7",
   "metadata": {},
   "outputs": [
    {
     "data": {
      "text/html": [
       "<div class='tableauPlaceholder' id='viz1671132149558' style='position: relative'><noscript><a href='#'><img alt='Top Countries Laid off Employees ' src='https:&#47;&#47;public.tableau.com&#47;static&#47;images&#47;Te&#47;TechLayoffsPerCountry&#47;Sheet1&#47;1_rss.png' style='border: none' /></a></noscript><object class='tableauViz'  style='display:none;'><param name='host_url' value='https%3A%2F%2Fpublic.tableau.com%2F' /> <param name='embed_code_version' value='3' /> <param name='site_root' value='' /><param name='name' value='TechLayoffsPerCountry&#47;Sheet1' /><param name='tabs' value='no' /><param name='toolbar' value='yes' /><param name='static_image' value='https:&#47;&#47;public.tableau.com&#47;static&#47;images&#47;Te&#47;TechLayoffsPerCountry&#47;Sheet1&#47;1.png' /> <param name='animate_transition' value='yes' /><param name='display_static_image' value='yes' /><param name='display_spinner' value='yes' /><param name='display_overlay' value='yes' /><param name='display_count' value='yes' /><param name='language' value='en-US' /><param name='filter' value='publish=yes' /></object></div>                <script type='text/javascript'>                    var divElement = document.getElementById('viz1671132149558');                    var vizElement = divElement.getElementsByTagName('object')[0];                    vizElement.style.width='100%';vizElement.style.height=(divElement.offsetWidth*0.75)+'px';                    var scriptElement = document.createElement('script');                    scriptElement.src = 'https://public.tableau.com/javascripts/api/viz_v1.js';                    vizElement.parentNode.insertBefore(scriptElement, vizElement);                </script>\n"
      ],
      "text/plain": [
       "<IPython.core.display.HTML object>"
      ]
     },
     "metadata": {},
     "output_type": "display_data"
    }
   ],
   "source": [
    "%%html\n",
    "<div class='tableauPlaceholder' id='viz1671132305832' style='position: relative'><noscript><a href='#'><img alt='Top Countries Laid off Employees ' src='https:&#47;&#47;public.tableau.com&#47;static&#47;images&#47;Te&#47;TechLayoffsPerCountry&#47;Sheet1&#47;1_rss.png' style='border: none' /></a></noscript><object class='tableauViz'  style='display:none;'><param name='host_url' value='https%3A%2F%2Fpublic.tableau.com%2F' /> <param name='embed_code_version' value='3' /> <param name='site_root' value='' /><param name='name' value='TechLayoffsPerCountry&#47;Sheet1' /><param name='tabs' value='no' /><param name='toolbar' value='yes' /><param name='static_image' value='https:&#47;&#47;public.tableau.com&#47;static&#47;images&#47;Te&#47;TechLayoffsPerCountry&#47;Sheet1&#47;1.png' /> <param name='animate_transition' value='yes' /><param name='display_static_image' value='yes' /><param name='display_spinner' value='yes' /><param name='display_overlay' value='yes' /><param name='display_count' value='yes' /><param name='language' value='en-US' /><param name='filter' value='publish=yes' /></object></div>                <script type='text/javascript'>                    var divElement = document.getElementById('viz1671132305832');                    var vizElement = divElement.getElementsByTagName('object')[0];                    vizElement.style.width='100%';vizElement.style.height=(divElement.offsetWidth*0.75)+'px';                    var scriptElement = document.createElement('script');                    scriptElement.src = 'https://public.tableau.com/javascripts/api/viz_v1.js';                    vizElement.parentNode.insertBefore(scriptElement, vizElement);                </script>"
   ]
  },
  {
   "cell_type": "markdown",
   "id": "3cd0d13c",
   "metadata": {},
   "source": [
    "The number of layoffs in the **United States** is pretty huge, so let us take a deeper snapshot on the layoffs in the US specifically.\n",
    "\n",
    "In the United States, San Francisco Bay Area recorded the highest number of layoffs in 2020 to 2022 with total number of 75,685 laid off employee in the tech industry followed by New York with total of 21,221 laid of employee as follows:"
   ]
  },
  {
   "cell_type": "code",
   "execution_count": 109,
   "id": "1655e8ac",
   "metadata": {},
   "outputs": [
    {
     "data": {
      "text/html": [
       "<div class='tableauPlaceholder' id='viz1671132329989' style='position: relative'><noscript><a href='#'><img alt='Layoffs Per Location in US ' src='https:&#47;&#47;public.tableau.com&#47;static&#47;images&#47;Te&#47;TechLayoffsLocationinUS&#47;Sheet2&#47;1_rss.png' style='border: none' /></a></noscript><object class='tableauViz'  style='display:none;'><param name='host_url' value='https%3A%2F%2Fpublic.tableau.com%2F' /> <param name='embed_code_version' value='3' /> <param name='site_root' value='' /><param name='name' value='TechLayoffsLocationinUS&#47;Sheet2' /><param name='tabs' value='no' /><param name='toolbar' value='yes' /><param name='static_image' value='https:&#47;&#47;public.tableau.com&#47;static&#47;images&#47;Te&#47;TechLayoffsLocationinUS&#47;Sheet2&#47;1.png' /> <param name='animate_transition' value='yes' /><param name='display_static_image' value='yes' /><param name='display_spinner' value='yes' /><param name='display_overlay' value='yes' /><param name='display_count' value='yes' /><param name='language' value='en-US' /><param name='filter' value='publish=yes' /></object></div>                <script type='text/javascript'>                    var divElement = document.getElementById('viz1671132329989');                    var vizElement = divElement.getElementsByTagName('object')[0];                    vizElement.style.width='100%';vizElement.style.height=(divElement.offsetWidth*0.75)+'px';                    var scriptElement = document.createElement('script');                    scriptElement.src = 'https://public.tableau.com/javascripts/api/viz_v1.js';                    vizElement.parentNode.insertBefore(scriptElement, vizElement);                </script>\n"
      ],
      "text/plain": [
       "<IPython.core.display.HTML object>"
      ]
     },
     "metadata": {},
     "output_type": "display_data"
    }
   ],
   "source": [
    "%%html\n",
    "<div class='tableauPlaceholder' id='viz1671132329989' style='position: relative'><noscript><a href='#'><img alt='Layoffs Per Location in US ' src='https:&#47;&#47;public.tableau.com&#47;static&#47;images&#47;Te&#47;TechLayoffsLocationinUS&#47;Sheet2&#47;1_rss.png' style='border: none' /></a></noscript><object class='tableauViz'  style='display:none;'><param name='host_url' value='https%3A%2F%2Fpublic.tableau.com%2F' /> <param name='embed_code_version' value='3' /> <param name='site_root' value='' /><param name='name' value='TechLayoffsLocationinUS&#47;Sheet2' /><param name='tabs' value='no' /><param name='toolbar' value='yes' /><param name='static_image' value='https:&#47;&#47;public.tableau.com&#47;static&#47;images&#47;Te&#47;TechLayoffsLocationinUS&#47;Sheet2&#47;1.png' /> <param name='animate_transition' value='yes' /><param name='display_static_image' value='yes' /><param name='display_spinner' value='yes' /><param name='display_overlay' value='yes' /><param name='display_count' value='yes' /><param name='language' value='en-US' /><param name='filter' value='publish=yes' /></object></div>                <script type='text/javascript'>                    var divElement = document.getElementById('viz1671132329989');                    var vizElement = divElement.getElementsByTagName('object')[0];                    vizElement.style.width='100%';vizElement.style.height=(divElement.offsetWidth*0.75)+'px';                    var scriptElement = document.createElement('script');                    scriptElement.src = 'https://public.tableau.com/javascripts/api/viz_v1.js';                    vizElement.parentNode.insertBefore(scriptElement, vizElement);                </script>"
   ]
  },
  {
   "cell_type": "markdown",
   "id": "ffac23dd",
   "metadata": {},
   "source": [
    "I needed to understand which industries had the most layoffs in the US Tech market and it was detected that the following are the top industries in terms of Layoffs:\n",
    "- Consumer (23,002 laid off employee in the last 3 years)\n",
    "- Retail (20,203)\n",
    "- Transportation (16,510)\n",
    "- Real Estate (13,912)"
   ]
  },
  {
   "cell_type": "code",
   "execution_count": 110,
   "id": "06f29f0b",
   "metadata": {},
   "outputs": [
    {
     "data": {
      "text/html": [
       "<div class='tableauPlaceholder' id='viz1671132614357' style='position: relative'><noscript><a href='#'><img alt='Layoffs Per Industry in US ' src='https:&#47;&#47;public.tableau.com&#47;static&#47;images&#47;Te&#47;TechLayoffsPerIndustryinUS&#47;Sheet3&#47;1_rss.png' style='border: none' /></a></noscript><object class='tableauViz'  style='display:none;'><param name='host_url' value='https%3A%2F%2Fpublic.tableau.com%2F' /> <param name='embed_code_version' value='3' /> <param name='site_root' value='' /><param name='name' value='TechLayoffsPerIndustryinUS&#47;Sheet3' /><param name='tabs' value='no' /><param name='toolbar' value='yes' /><param name='static_image' value='https:&#47;&#47;public.tableau.com&#47;static&#47;images&#47;Te&#47;TechLayoffsPerIndustryinUS&#47;Sheet3&#47;1.png' /> <param name='animate_transition' value='yes' /><param name='display_static_image' value='yes' /><param name='display_spinner' value='yes' /><param name='display_overlay' value='yes' /><param name='display_count' value='yes' /><param name='language' value='en-US' /><param name='filter' value='publish=yes' /></object></div>                <script type='text/javascript'>                    var divElement = document.getElementById('viz1671132614357');                    var vizElement = divElement.getElementsByTagName('object')[0];                    vizElement.style.width='100%';vizElement.style.height=(divElement.offsetWidth*0.75)+'px';                    var scriptElement = document.createElement('script');                    scriptElement.src = 'https://public.tableau.com/javascripts/api/viz_v1.js';                    vizElement.parentNode.insertBefore(scriptElement, vizElement);                </script>\n"
      ],
      "text/plain": [
       "<IPython.core.display.HTML object>"
      ]
     },
     "metadata": {},
     "output_type": "display_data"
    }
   ],
   "source": [
    "%%html\n",
    "<div class='tableauPlaceholder' id='viz1671132614357' style='position: relative'><noscript><a href='#'><img alt='Layoffs Per Industry in US ' src='https:&#47;&#47;public.tableau.com&#47;static&#47;images&#47;Te&#47;TechLayoffsPerIndustryinUS&#47;Sheet3&#47;1_rss.png' style='border: none' /></a></noscript><object class='tableauViz'  style='display:none;'><param name='host_url' value='https%3A%2F%2Fpublic.tableau.com%2F' /> <param name='embed_code_version' value='3' /> <param name='site_root' value='' /><param name='name' value='TechLayoffsPerIndustryinUS&#47;Sheet3' /><param name='tabs' value='no' /><param name='toolbar' value='yes' /><param name='static_image' value='https:&#47;&#47;public.tableau.com&#47;static&#47;images&#47;Te&#47;TechLayoffsPerIndustryinUS&#47;Sheet3&#47;1.png' /> <param name='animate_transition' value='yes' /><param name='display_static_image' value='yes' /><param name='display_spinner' value='yes' /><param name='display_overlay' value='yes' /><param name='display_count' value='yes' /><param name='language' value='en-US' /><param name='filter' value='publish=yes' /></object></div>                <script type='text/javascript'>                    var divElement = document.getElementById('viz1671132614357');                    var vizElement = divElement.getElementsByTagName('object')[0];                    vizElement.style.width='100%';vizElement.style.height=(divElement.offsetWidth*0.75)+'px';                    var scriptElement = document.createElement('script');                    scriptElement.src = 'https://public.tableau.com/javascripts/api/viz_v1.js';                    vizElement.parentNode.insertBefore(scriptElement, vizElement);                </script>"
   ]
  },
  {
   "cell_type": "markdown",
   "id": "11659d0e",
   "metadata": {},
   "source": [
    "Going even further, we need to know which companies performed the most layoffs in the United States and it appears that **Meta, Amazon & Uber** have recorded the highest number of layoffs over the past 3 years knowing that Meta and Amazon started laying off employees in 2022 only!! "
   ]
  },
  {
   "cell_type": "code",
   "execution_count": 111,
   "id": "9f10b573",
   "metadata": {},
   "outputs": [
    {
     "data": {
      "text/html": [
       "<div class='tableauPlaceholder' id='viz1671132896368' style='position: relative'><noscript><a href='#'><img alt='Layoffs Per Company in US ' src='https:&#47;&#47;public.tableau.com&#47;static&#47;images&#47;Te&#47;TechLayoffsPerCompanyinUS&#47;Sheet4&#47;1_rss.png' style='border: none' /></a></noscript><object class='tableauViz'  style='display:none;'><param name='host_url' value='https%3A%2F%2Fpublic.tableau.com%2F' /> <param name='embed_code_version' value='3' /> <param name='site_root' value='' /><param name='name' value='TechLayoffsPerCompanyinUS&#47;Sheet4' /><param name='tabs' value='no' /><param name='toolbar' value='yes' /><param name='static_image' value='https:&#47;&#47;public.tableau.com&#47;static&#47;images&#47;Te&#47;TechLayoffsPerCompanyinUS&#47;Sheet4&#47;1.png' /> <param name='animate_transition' value='yes' /><param name='display_static_image' value='yes' /><param name='display_spinner' value='yes' /><param name='display_overlay' value='yes' /><param name='display_count' value='yes' /><param name='language' value='en-US' /><param name='filter' value='publish=yes' /><param name='ignore_sticky_session' value='yes' /></object></div>                <script type='text/javascript'>                    var divElement = document.getElementById('viz1671132896368');                    var vizElement = divElement.getElementsByTagName('object')[0];                    vizElement.style.width='100%';vizElement.style.height=(divElement.offsetWidth*0.75)+'px';                    var scriptElement = document.createElement('script');                    scriptElement.src = 'https://public.tableau.com/javascripts/api/viz_v1.js';                    vizElement.parentNode.insertBefore(scriptElement, vizElement);                </script>\n"
      ],
      "text/plain": [
       "<IPython.core.display.HTML object>"
      ]
     },
     "metadata": {},
     "output_type": "display_data"
    }
   ],
   "source": [
    "%%html\n",
    "<div class='tableauPlaceholder' id='viz1671132896368' style='position: relative'><noscript><a href='#'><img alt='Layoffs Per Company in US ' src='https:&#47;&#47;public.tableau.com&#47;static&#47;images&#47;Te&#47;TechLayoffsPerCompanyinUS&#47;Sheet4&#47;1_rss.png' style='border: none' /></a></noscript><object class='tableauViz'  style='display:none;'><param name='host_url' value='https%3A%2F%2Fpublic.tableau.com%2F' /> <param name='embed_code_version' value='3' /> <param name='site_root' value='' /><param name='name' value='TechLayoffsPerCompanyinUS&#47;Sheet4' /><param name='tabs' value='no' /><param name='toolbar' value='yes' /><param name='static_image' value='https:&#47;&#47;public.tableau.com&#47;static&#47;images&#47;Te&#47;TechLayoffsPerCompanyinUS&#47;Sheet4&#47;1.png' /> <param name='animate_transition' value='yes' /><param name='display_static_image' value='yes' /><param name='display_spinner' value='yes' /><param name='display_overlay' value='yes' /><param name='display_count' value='yes' /><param name='language' value='en-US' /><param name='filter' value='publish=yes' /><param name='ignore_sticky_session' value='yes' /></object></div>                <script type='text/javascript'>                    var divElement = document.getElementById('viz1671132896368');                    var vizElement = divElement.getElementsByTagName('object')[0];                    vizElement.style.width='100%';vizElement.style.height=(divElement.offsetWidth*0.75)+'px';                    var scriptElement = document.createElement('script');                    scriptElement.src = 'https://public.tableau.com/javascripts/api/viz_v1.js';                    vizElement.parentNode.insertBefore(scriptElement, vizElement);                </script>"
   ]
  },
  {
   "cell_type": "markdown",
   "id": "54eaac3c",
   "metadata": {},
   "source": [
    "### Understanding the reason behind the layoffs"
   ]
  },
  {
   "cell_type": "markdown",
   "id": "6ba12dbe",
   "metadata": {},
   "source": [
    "In this section, I will try to understand the reason behind the layoffs hitting the tech market but first I will exclude United States and India as they are considered outliers in the dataset then I will do the following:\n",
    "- Define the correlation between the Funds Raised and the layoffs.\n",
    "- Define the impact of the Dollar inflation & Buying Power on the Tech market."
   ]
  },
  {
   "cell_type": "markdown",
   "id": "c1a4dece",
   "metadata": {},
   "source": [
    "#### Correlation between Funds Raised and Layoffs"
   ]
  },
  {
   "cell_type": "code",
   "execution_count": 112,
   "id": "d01017ce",
   "metadata": {},
   "outputs": [
    {
     "data": {
      "text/html": [
       "<div class='tableauPlaceholder' id='viz1671133095997' style='position: relative'><noscript><a href='#'><img alt='Correlation between Fund Raised &amp; Layoffs Excluding United States and India. ' src='https:&#47;&#47;public.tableau.com&#47;static&#47;images&#47;Co&#47;CorrelationbetweenFundsRaisedTechLayoffs&#47;Sheet5&#47;1_rss.png' style='border: none' /></a></noscript><object class='tableauViz'  style='display:none;'><param name='host_url' value='https%3A%2F%2Fpublic.tableau.com%2F' /> <param name='embed_code_version' value='3' /> <param name='site_root' value='' /><param name='name' value='CorrelationbetweenFundsRaisedTechLayoffs&#47;Sheet5' /><param name='tabs' value='no' /><param name='toolbar' value='yes' /><param name='static_image' value='https:&#47;&#47;public.tableau.com&#47;static&#47;images&#47;Co&#47;CorrelationbetweenFundsRaisedTechLayoffs&#47;Sheet5&#47;1.png' /> <param name='animate_transition' value='yes' /><param name='display_static_image' value='yes' /><param name='display_spinner' value='yes' /><param name='display_overlay' value='yes' /><param name='display_count' value='yes' /><param name='language' value='en-US' /><param name='filter' value='publish=yes' /><param name='ignore_sticky_session' value='yes' /></object></div>                <script type='text/javascript'>                    var divElement = document.getElementById('viz1671133095997');                    var vizElement = divElement.getElementsByTagName('object')[0];                    vizElement.style.width='100%';vizElement.style.height=(divElement.offsetWidth*0.75)+'px';                    var scriptElement = document.createElement('script');                    scriptElement.src = 'https://public.tableau.com/javascripts/api/viz_v1.js';                    vizElement.parentNode.insertBefore(scriptElement, vizElement);                </script>\n"
      ],
      "text/plain": [
       "<IPython.core.display.HTML object>"
      ]
     },
     "metadata": {},
     "output_type": "display_data"
    }
   ],
   "source": [
    "%%html\n",
    "<div class='tableauPlaceholder' id='viz1671133095997' style='position: relative'><noscript><a href='#'><img alt='Correlation between Fund Raised &amp; Layoffs Excluding United States and India. ' src='https:&#47;&#47;public.tableau.com&#47;static&#47;images&#47;Co&#47;CorrelationbetweenFundsRaisedTechLayoffs&#47;Sheet5&#47;1_rss.png' style='border: none' /></a></noscript><object class='tableauViz'  style='display:none;'><param name='host_url' value='https%3A%2F%2Fpublic.tableau.com%2F' /> <param name='embed_code_version' value='3' /> <param name='site_root' value='' /><param name='name' value='CorrelationbetweenFundsRaisedTechLayoffs&#47;Sheet5' /><param name='tabs' value='no' /><param name='toolbar' value='yes' /><param name='static_image' value='https:&#47;&#47;public.tableau.com&#47;static&#47;images&#47;Co&#47;CorrelationbetweenFundsRaisedTechLayoffs&#47;Sheet5&#47;1.png' /> <param name='animate_transition' value='yes' /><param name='display_static_image' value='yes' /><param name='display_spinner' value='yes' /><param name='display_overlay' value='yes' /><param name='display_count' value='yes' /><param name='language' value='en-US' /><param name='filter' value='publish=yes' /><param name='ignore_sticky_session' value='yes' /></object></div>                <script type='text/javascript'>                    var divElement = document.getElementById('viz1671133095997');                    var vizElement = divElement.getElementsByTagName('object')[0];                    vizElement.style.width='100%';vizElement.style.height=(divElement.offsetWidth*0.75)+'px';                    var scriptElement = document.createElement('script');                    scriptElement.src = 'https://public.tableau.com/javascripts/api/viz_v1.js';                    vizElement.parentNode.insertBefore(scriptElement, vizElement);                </script>"
   ]
  },
  {
   "cell_type": "markdown",
   "id": "379f7575",
   "metadata": {},
   "source": [
    "It is pretty clear that Funds raised and layoffs has a positive correlation which means that when companies raise more funds they tend to layoff more people and I believe this is obligations from the shareholders/investors."
   ]
  },
  {
   "cell_type": "markdown",
   "id": "e5e6319b",
   "metadata": {},
   "source": [
    "#### Impact of Dollar Inflation\n",
    "\n",
    "The dollar inflation has really increased in the past 3 years as an impact left by COVID-19 followed by the War between Russia and Ukraine. But let us try to understand whether the inflation impacts the layoffs or not?"
   ]
  },
  {
   "cell_type": "code",
   "execution_count": 113,
   "id": "b9bc434f",
   "metadata": {},
   "outputs": [
    {
     "data": {
      "text/html": [
       "<div class='tableauPlaceholder' id='viz1671133303798' style='position: relative'><noscript><a href='#'><img alt='Relation Between Dollar Inflation and Layoffs ' src='https:&#47;&#47;public.tableau.com&#47;static&#47;images&#47;Re&#47;RelationbetweenDollarInflationandLayoffs&#47;Sheet7&#47;1_rss.png' style='border: none' /></a></noscript><object class='tableauViz'  style='display:none;'><param name='host_url' value='https%3A%2F%2Fpublic.tableau.com%2F' /> <param name='embed_code_version' value='3' /> <param name='site_root' value='' /><param name='name' value='RelationbetweenDollarInflationandLayoffs&#47;Sheet7' /><param name='tabs' value='no' /><param name='toolbar' value='yes' /><param name='static_image' value='https:&#47;&#47;public.tableau.com&#47;static&#47;images&#47;Re&#47;RelationbetweenDollarInflationandLayoffs&#47;Sheet7&#47;1.png' /> <param name='animate_transition' value='yes' /><param name='display_static_image' value='yes' /><param name='display_spinner' value='yes' /><param name='display_overlay' value='yes' /><param name='display_count' value='yes' /><param name='language' value='en-US' /><param name='filter' value='publish=yes' /></object></div>                <script type='text/javascript'>                    var divElement = document.getElementById('viz1671133303798');                    var vizElement = divElement.getElementsByTagName('object')[0];                    vizElement.style.width='100%';vizElement.style.height=(divElement.offsetWidth*0.75)+'px';                    var scriptElement = document.createElement('script');                    scriptElement.src = 'https://public.tableau.com/javascripts/api/viz_v1.js';                    vizElement.parentNode.insertBefore(scriptElement, vizElement);                </script>\n"
      ],
      "text/plain": [
       "<IPython.core.display.HTML object>"
      ]
     },
     "metadata": {},
     "output_type": "display_data"
    }
   ],
   "source": [
    "%%html\n",
    "<div class='tableauPlaceholder' id='viz1671133303798' style='position: relative'><noscript><a href='#'><img alt='Relation Between Dollar Inflation and Layoffs ' src='https:&#47;&#47;public.tableau.com&#47;static&#47;images&#47;Re&#47;RelationbetweenDollarInflationandLayoffs&#47;Sheet7&#47;1_rss.png' style='border: none' /></a></noscript><object class='tableauViz'  style='display:none;'><param name='host_url' value='https%3A%2F%2Fpublic.tableau.com%2F' /> <param name='embed_code_version' value='3' /> <param name='site_root' value='' /><param name='name' value='RelationbetweenDollarInflationandLayoffs&#47;Sheet7' /><param name='tabs' value='no' /><param name='toolbar' value='yes' /><param name='static_image' value='https:&#47;&#47;public.tableau.com&#47;static&#47;images&#47;Re&#47;RelationbetweenDollarInflationandLayoffs&#47;Sheet7&#47;1.png' /> <param name='animate_transition' value='yes' /><param name='display_static_image' value='yes' /><param name='display_spinner' value='yes' /><param name='display_overlay' value='yes' /><param name='display_count' value='yes' /><param name='language' value='en-US' /><param name='filter' value='publish=yes' /></object></div>                <script type='text/javascript'>                    var divElement = document.getElementById('viz1671133303798');                    var vizElement = divElement.getElementsByTagName('object')[0];                    vizElement.style.width='100%';vizElement.style.height=(divElement.offsetWidth*0.75)+'px';                    var scriptElement = document.createElement('script');                    scriptElement.src = 'https://public.tableau.com/javascripts/api/viz_v1.js';                    vizElement.parentNode.insertBefore(scriptElement, vizElement);                </script>"
   ]
  },
  {
   "cell_type": "markdown",
   "id": "37b083a6",
   "metadata": {},
   "source": [
    "In the above figure, it looks like the dollar inflation has no impact on the layoffs since it kept increasing year over year but the layoffs actually dropped in 2021 but that is not right. \n",
    "\n",
    "Dollar inflation is not an enough measure, but if we look at the buying power we will get a better understanding:\n",
    "- From 2020 - 2021, the buying power remained the same although the dollar inflation increased which explains why the layoffs decreased from 2020 to 2021\n",
    "\n",
    "- From 2021 - 2022, the buying power decreased by around 10% and the dollar inflation increased as well which explains why the layoffs made a spike by this time."
   ]
  },
  {
   "cell_type": "markdown",
   "id": "57033fbe",
   "metadata": {},
   "source": [
    "## Conclusion\n",
    "\n",
    "It looks like there are two main factors affecting the tech layoffs:\n",
    "- Dollar inflation and Buying Power in relevance to each other\n",
    "- Funds being raised without proper planning\n",
    "\n",
    "There might be another reason why the tech market was hit by this wave of layoffs which is the shareholders directing their investment to another industries like Oil & Gas.\n",
    "\n",
    "In a nut shell, companies need to stop over utilizing their teams and plan for proper funding so that they can keep their employees safe and happy rather than laid off. Also, we need to understand why the shareholders are shifting their investment to other industries."
   ]
  }
 ],
 "metadata": {
  "kernelspec": {
   "display_name": "Python 3 (ipykernel)",
   "language": "python",
   "name": "python3"
  },
  "language_info": {
   "codemirror_mode": {
    "name": "ipython",
    "version": 3
   },
   "file_extension": ".py",
   "mimetype": "text/x-python",
   "name": "python",
   "nbconvert_exporter": "python",
   "pygments_lexer": "ipython3",
   "version": "3.9.13"
  }
 },
 "nbformat": 4,
 "nbformat_minor": 5
}
